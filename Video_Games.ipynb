{
  "nbformat": 4,
  "nbformat_minor": 0,
  "metadata": {
    "colab": {
      "name": "Video Games",
      "provenance": [],
      "collapsed_sections": [],
      "mount_file_id": "1qgetIA9igTwV86KG54JHhzliXTrKRl8u",
      "authorship_tag": "ABX9TyPqoeAoIqdrWKl3ovyCkny9",
      "include_colab_link": true
    },
    "kernelspec": {
      "name": "python3",
      "display_name": "Python 3"
    },
    "language_info": {
      "name": "python"
    }
  },
  "cells": [
    {
      "cell_type": "markdown",
      "metadata": {
        "id": "view-in-github",
        "colab_type": "text"
      },
      "source": [
        "<a href=\"https://colab.research.google.com/github/SchoolSpice/COMP-542/blob/main/Video_Games.ipynb\" target=\"_parent\"><img src=\"https://colab.research.google.com/assets/colab-badge.svg\" alt=\"Open In Colab\"/></a>"
      ]
    },
    {
      "cell_type": "code",
      "execution_count": 1,
      "metadata": {
        "id": "FG_B1iMt0HxT",
        "colab": {
          "base_uri": "https://localhost:8080/",
          "height": 367
        },
        "outputId": "cea58949-043f-48df-9756-d157a585d6f5"
      },
      "outputs": [
        {
          "output_type": "stream",
          "name": "stdout",
          "text": [
            "Requirement already satisfied: matplotlib==3.4.2 in /usr/local/lib/python3.7/dist-packages (3.4.2)\n",
            "Requirement already satisfied: python-dateutil>=2.7 in /usr/local/lib/python3.7/dist-packages (from matplotlib==3.4.2) (2.8.2)\n",
            "Requirement already satisfied: pillow>=6.2.0 in /usr/local/lib/python3.7/dist-packages (from matplotlib==3.4.2) (7.1.2)\n",
            "Requirement already satisfied: numpy>=1.16 in /usr/local/lib/python3.7/dist-packages (from matplotlib==3.4.2) (1.21.5)\n",
            "Requirement already satisfied: cycler>=0.10 in /usr/local/lib/python3.7/dist-packages (from matplotlib==3.4.2) (0.11.0)\n",
            "Requirement already satisfied: kiwisolver>=1.0.1 in /usr/local/lib/python3.7/dist-packages (from matplotlib==3.4.2) (1.4.0)\n",
            "Requirement already satisfied: pyparsing>=2.2.1 in /usr/local/lib/python3.7/dist-packages (from matplotlib==3.4.2) (3.0.7)\n",
            "Requirement already satisfied: typing-extensions in /usr/local/lib/python3.7/dist-packages (from kiwisolver>=1.0.1->matplotlib==3.4.2) (3.10.0.2)\n",
            "Requirement already satisfied: six>=1.5 in /usr/local/lib/python3.7/dist-packages (from python-dateutil>=2.7->matplotlib==3.4.2) (1.15.0)\n"
          ]
        },
        {
          "output_type": "execute_result",
          "data": {
            "text/plain": [
              "   ID                    Game Title Release Date  Price  \\\n",
              "0   1                  It Takes Two    3/25/2021  39.99   \n",
              "1   2                Cyberpunk 2077    12/9/2020  59.99   \n",
              "2   3                Risk of Rain 2    8/11/2020  24.99   \n",
              "3   4  Fall Guys: Ultimate Knockout     8/3/2020   7.99   \n",
              "4   5                   Lightmatter    1/15/2020  19.99   \n",
              "\n",
              "                      Publisher Independent Game  Youtube Videos  \\\n",
              "0               Electronic Arts               No           13500   \n",
              "1                CD PROJEKT RED               No           27800   \n",
              "2            Gearbox Publishing              Yes            1110   \n",
              "3  Epic Games, Devolver Digital              Yes            4060   \n",
              "4                         Aspyr              Yes             118   \n",
              "\n",
              "   Metacritic Score Commercial Success  \n",
              "0                89               High  \n",
              "1                86               High  \n",
              "2                85               High  \n",
              "3                81               High  \n",
              "4                73               High  "
            ],
            "text/html": [
              "\n",
              "  <div id=\"df-2b511336-b190-4c8c-b5f9-1b810cac071c\">\n",
              "    <div class=\"colab-df-container\">\n",
              "      <div>\n",
              "<style scoped>\n",
              "    .dataframe tbody tr th:only-of-type {\n",
              "        vertical-align: middle;\n",
              "    }\n",
              "\n",
              "    .dataframe tbody tr th {\n",
              "        vertical-align: top;\n",
              "    }\n",
              "\n",
              "    .dataframe thead th {\n",
              "        text-align: right;\n",
              "    }\n",
              "</style>\n",
              "<table border=\"1\" class=\"dataframe\">\n",
              "  <thead>\n",
              "    <tr style=\"text-align: right;\">\n",
              "      <th></th>\n",
              "      <th>ID</th>\n",
              "      <th>Game Title</th>\n",
              "      <th>Release Date</th>\n",
              "      <th>Price</th>\n",
              "      <th>Publisher</th>\n",
              "      <th>Independent Game</th>\n",
              "      <th>Youtube Videos</th>\n",
              "      <th>Metacritic Score</th>\n",
              "      <th>Commercial Success</th>\n",
              "    </tr>\n",
              "  </thead>\n",
              "  <tbody>\n",
              "    <tr>\n",
              "      <th>0</th>\n",
              "      <td>1</td>\n",
              "      <td>It Takes Two</td>\n",
              "      <td>3/25/2021</td>\n",
              "      <td>39.99</td>\n",
              "      <td>Electronic Arts</td>\n",
              "      <td>No</td>\n",
              "      <td>13500</td>\n",
              "      <td>89</td>\n",
              "      <td>High</td>\n",
              "    </tr>\n",
              "    <tr>\n",
              "      <th>1</th>\n",
              "      <td>2</td>\n",
              "      <td>Cyberpunk 2077</td>\n",
              "      <td>12/9/2020</td>\n",
              "      <td>59.99</td>\n",
              "      <td>CD PROJEKT RED</td>\n",
              "      <td>No</td>\n",
              "      <td>27800</td>\n",
              "      <td>86</td>\n",
              "      <td>High</td>\n",
              "    </tr>\n",
              "    <tr>\n",
              "      <th>2</th>\n",
              "      <td>3</td>\n",
              "      <td>Risk of Rain 2</td>\n",
              "      <td>8/11/2020</td>\n",
              "      <td>24.99</td>\n",
              "      <td>Gearbox Publishing</td>\n",
              "      <td>Yes</td>\n",
              "      <td>1110</td>\n",
              "      <td>85</td>\n",
              "      <td>High</td>\n",
              "    </tr>\n",
              "    <tr>\n",
              "      <th>3</th>\n",
              "      <td>4</td>\n",
              "      <td>Fall Guys: Ultimate Knockout</td>\n",
              "      <td>8/3/2020</td>\n",
              "      <td>7.99</td>\n",
              "      <td>Epic Games, Devolver Digital</td>\n",
              "      <td>Yes</td>\n",
              "      <td>4060</td>\n",
              "      <td>81</td>\n",
              "      <td>High</td>\n",
              "    </tr>\n",
              "    <tr>\n",
              "      <th>4</th>\n",
              "      <td>5</td>\n",
              "      <td>Lightmatter</td>\n",
              "      <td>1/15/2020</td>\n",
              "      <td>19.99</td>\n",
              "      <td>Aspyr</td>\n",
              "      <td>Yes</td>\n",
              "      <td>118</td>\n",
              "      <td>73</td>\n",
              "      <td>High</td>\n",
              "    </tr>\n",
              "  </tbody>\n",
              "</table>\n",
              "</div>\n",
              "      <button class=\"colab-df-convert\" onclick=\"convertToInteractive('df-2b511336-b190-4c8c-b5f9-1b810cac071c')\"\n",
              "              title=\"Convert this dataframe to an interactive table.\"\n",
              "              style=\"display:none;\">\n",
              "        \n",
              "  <svg xmlns=\"http://www.w3.org/2000/svg\" height=\"24px\"viewBox=\"0 0 24 24\"\n",
              "       width=\"24px\">\n",
              "    <path d=\"M0 0h24v24H0V0z\" fill=\"none\"/>\n",
              "    <path d=\"M18.56 5.44l.94 2.06.94-2.06 2.06-.94-2.06-.94-.94-2.06-.94 2.06-2.06.94zm-11 1L8.5 8.5l.94-2.06 2.06-.94-2.06-.94L8.5 2.5l-.94 2.06-2.06.94zm10 10l.94 2.06.94-2.06 2.06-.94-2.06-.94-.94-2.06-.94 2.06-2.06.94z\"/><path d=\"M17.41 7.96l-1.37-1.37c-.4-.4-.92-.59-1.43-.59-.52 0-1.04.2-1.43.59L10.3 9.45l-7.72 7.72c-.78.78-.78 2.05 0 2.83L4 21.41c.39.39.9.59 1.41.59.51 0 1.02-.2 1.41-.59l7.78-7.78 2.81-2.81c.8-.78.8-2.07 0-2.86zM5.41 20L4 18.59l7.72-7.72 1.47 1.35L5.41 20z\"/>\n",
              "  </svg>\n",
              "      </button>\n",
              "      \n",
              "  <style>\n",
              "    .colab-df-container {\n",
              "      display:flex;\n",
              "      flex-wrap:wrap;\n",
              "      gap: 12px;\n",
              "    }\n",
              "\n",
              "    .colab-df-convert {\n",
              "      background-color: #E8F0FE;\n",
              "      border: none;\n",
              "      border-radius: 50%;\n",
              "      cursor: pointer;\n",
              "      display: none;\n",
              "      fill: #1967D2;\n",
              "      height: 32px;\n",
              "      padding: 0 0 0 0;\n",
              "      width: 32px;\n",
              "    }\n",
              "\n",
              "    .colab-df-convert:hover {\n",
              "      background-color: #E2EBFA;\n",
              "      box-shadow: 0px 1px 2px rgba(60, 64, 67, 0.3), 0px 1px 3px 1px rgba(60, 64, 67, 0.15);\n",
              "      fill: #174EA6;\n",
              "    }\n",
              "\n",
              "    [theme=dark] .colab-df-convert {\n",
              "      background-color: #3B4455;\n",
              "      fill: #D2E3FC;\n",
              "    }\n",
              "\n",
              "    [theme=dark] .colab-df-convert:hover {\n",
              "      background-color: #434B5C;\n",
              "      box-shadow: 0px 1px 3px 1px rgba(0, 0, 0, 0.15);\n",
              "      filter: drop-shadow(0px 1px 2px rgba(0, 0, 0, 0.3));\n",
              "      fill: #FFFFFF;\n",
              "    }\n",
              "  </style>\n",
              "\n",
              "      <script>\n",
              "        const buttonEl =\n",
              "          document.querySelector('#df-2b511336-b190-4c8c-b5f9-1b810cac071c button.colab-df-convert');\n",
              "        buttonEl.style.display =\n",
              "          google.colab.kernel.accessAllowed ? 'block' : 'none';\n",
              "\n",
              "        async function convertToInteractive(key) {\n",
              "          const element = document.querySelector('#df-2b511336-b190-4c8c-b5f9-1b810cac071c');\n",
              "          const dataTable =\n",
              "            await google.colab.kernel.invokeFunction('convertToInteractive',\n",
              "                                                     [key], {});\n",
              "          if (!dataTable) return;\n",
              "\n",
              "          const docLinkHtml = 'Like what you see? Visit the ' +\n",
              "            '<a target=\"_blank\" href=https://colab.research.google.com/notebooks/data_table.ipynb>data table notebook</a>'\n",
              "            + ' to learn more about interactive tables.';\n",
              "          element.innerHTML = '';\n",
              "          dataTable['output_type'] = 'display_data';\n",
              "          await google.colab.output.renderOutput(dataTable, element);\n",
              "          const docLink = document.createElement('div');\n",
              "          docLink.innerHTML = docLinkHtml;\n",
              "          element.appendChild(docLink);\n",
              "        }\n",
              "      </script>\n",
              "    </div>\n",
              "  </div>\n",
              "  "
            ]
          },
          "metadata": {},
          "execution_count": 1
        }
      ],
      "source": [
        "#HIT PLAY BUTTON TO THE LEFT OF EACH CODE BLOCK TO LOAD OR CLICK RUNTIME -> RUN ALL.\n",
        "#Install is for latest matplotlib version\n",
        "%pip install matplotlib==3.4.2\n",
        "import pandas as pd\n",
        "import numpy as np\n",
        "import time\n",
        "from sklearn.metrics import classification_report, ConfusionMatrixDisplay, f1_score, accuracy_score\n",
        "from sklearn.preprocessing import PowerTransformer, OneHotEncoder\n",
        "from sklearn.compose import ColumnTransformer\n",
        "from sklearn.pipeline import Pipeline\n",
        "from sklearn.ensemble import RandomForestClassifier\n",
        "from sklearn.neighbors import KNeighborsClassifier\n",
        "from sklearn.svm import SVC\n",
        "from sklearn.neural_network import MLPClassifier\n",
        "from sklearn.model_selection import train_test_split\n",
        "import matplotlib.pyplot as plt\n",
        "from warnings import simplefilter\n",
        "from sklearn.exceptions import ConvergenceWarning\n",
        "%matplotlib inline\n",
        "\n",
        "simplefilter(\"ignore\", category=ConvergenceWarning)\n",
        "\n",
        "df = pd.read_csv('/content/drive/MyDrive/Video Game Data.csv')\n",
        "\n",
        "df.head()"
      ]
    },
    {
      "cell_type": "code",
      "source": [
        "#Shrinking Table to just important features\n",
        "df = df.loc[:,['Youtube Videos','Independent Game','Metacritic Score','Commercial Success']]\n",
        "#Checking new table\n",
        "df.head(5)"
      ],
      "metadata": {
        "id": "nGWSnduV_0FA",
        "colab": {
          "base_uri": "https://localhost:8080/",
          "height": 206
        },
        "outputId": "78138758-84ef-4dc3-df83-309fcb0d448b"
      },
      "execution_count": 2,
      "outputs": [
        {
          "output_type": "execute_result",
          "data": {
            "text/plain": [
              "   Youtube Videos Independent Game  Metacritic Score Commercial Success\n",
              "0           13500               No                89               High\n",
              "1           27800               No                86               High\n",
              "2            1110              Yes                85               High\n",
              "3            4060              Yes                81               High\n",
              "4             118              Yes                73               High"
            ],
            "text/html": [
              "\n",
              "  <div id=\"df-09c30ddd-bd83-415a-ba44-880f716f9187\">\n",
              "    <div class=\"colab-df-container\">\n",
              "      <div>\n",
              "<style scoped>\n",
              "    .dataframe tbody tr th:only-of-type {\n",
              "        vertical-align: middle;\n",
              "    }\n",
              "\n",
              "    .dataframe tbody tr th {\n",
              "        vertical-align: top;\n",
              "    }\n",
              "\n",
              "    .dataframe thead th {\n",
              "        text-align: right;\n",
              "    }\n",
              "</style>\n",
              "<table border=\"1\" class=\"dataframe\">\n",
              "  <thead>\n",
              "    <tr style=\"text-align: right;\">\n",
              "      <th></th>\n",
              "      <th>Youtube Videos</th>\n",
              "      <th>Independent Game</th>\n",
              "      <th>Metacritic Score</th>\n",
              "      <th>Commercial Success</th>\n",
              "    </tr>\n",
              "  </thead>\n",
              "  <tbody>\n",
              "    <tr>\n",
              "      <th>0</th>\n",
              "      <td>13500</td>\n",
              "      <td>No</td>\n",
              "      <td>89</td>\n",
              "      <td>High</td>\n",
              "    </tr>\n",
              "    <tr>\n",
              "      <th>1</th>\n",
              "      <td>27800</td>\n",
              "      <td>No</td>\n",
              "      <td>86</td>\n",
              "      <td>High</td>\n",
              "    </tr>\n",
              "    <tr>\n",
              "      <th>2</th>\n",
              "      <td>1110</td>\n",
              "      <td>Yes</td>\n",
              "      <td>85</td>\n",
              "      <td>High</td>\n",
              "    </tr>\n",
              "    <tr>\n",
              "      <th>3</th>\n",
              "      <td>4060</td>\n",
              "      <td>Yes</td>\n",
              "      <td>81</td>\n",
              "      <td>High</td>\n",
              "    </tr>\n",
              "    <tr>\n",
              "      <th>4</th>\n",
              "      <td>118</td>\n",
              "      <td>Yes</td>\n",
              "      <td>73</td>\n",
              "      <td>High</td>\n",
              "    </tr>\n",
              "  </tbody>\n",
              "</table>\n",
              "</div>\n",
              "      <button class=\"colab-df-convert\" onclick=\"convertToInteractive('df-09c30ddd-bd83-415a-ba44-880f716f9187')\"\n",
              "              title=\"Convert this dataframe to an interactive table.\"\n",
              "              style=\"display:none;\">\n",
              "        \n",
              "  <svg xmlns=\"http://www.w3.org/2000/svg\" height=\"24px\"viewBox=\"0 0 24 24\"\n",
              "       width=\"24px\">\n",
              "    <path d=\"M0 0h24v24H0V0z\" fill=\"none\"/>\n",
              "    <path d=\"M18.56 5.44l.94 2.06.94-2.06 2.06-.94-2.06-.94-.94-2.06-.94 2.06-2.06.94zm-11 1L8.5 8.5l.94-2.06 2.06-.94-2.06-.94L8.5 2.5l-.94 2.06-2.06.94zm10 10l.94 2.06.94-2.06 2.06-.94-2.06-.94-.94-2.06-.94 2.06-2.06.94z\"/><path d=\"M17.41 7.96l-1.37-1.37c-.4-.4-.92-.59-1.43-.59-.52 0-1.04.2-1.43.59L10.3 9.45l-7.72 7.72c-.78.78-.78 2.05 0 2.83L4 21.41c.39.39.9.59 1.41.59.51 0 1.02-.2 1.41-.59l7.78-7.78 2.81-2.81c.8-.78.8-2.07 0-2.86zM5.41 20L4 18.59l7.72-7.72 1.47 1.35L5.41 20z\"/>\n",
              "  </svg>\n",
              "      </button>\n",
              "      \n",
              "  <style>\n",
              "    .colab-df-container {\n",
              "      display:flex;\n",
              "      flex-wrap:wrap;\n",
              "      gap: 12px;\n",
              "    }\n",
              "\n",
              "    .colab-df-convert {\n",
              "      background-color: #E8F0FE;\n",
              "      border: none;\n",
              "      border-radius: 50%;\n",
              "      cursor: pointer;\n",
              "      display: none;\n",
              "      fill: #1967D2;\n",
              "      height: 32px;\n",
              "      padding: 0 0 0 0;\n",
              "      width: 32px;\n",
              "    }\n",
              "\n",
              "    .colab-df-convert:hover {\n",
              "      background-color: #E2EBFA;\n",
              "      box-shadow: 0px 1px 2px rgba(60, 64, 67, 0.3), 0px 1px 3px 1px rgba(60, 64, 67, 0.15);\n",
              "      fill: #174EA6;\n",
              "    }\n",
              "\n",
              "    [theme=dark] .colab-df-convert {\n",
              "      background-color: #3B4455;\n",
              "      fill: #D2E3FC;\n",
              "    }\n",
              "\n",
              "    [theme=dark] .colab-df-convert:hover {\n",
              "      background-color: #434B5C;\n",
              "      box-shadow: 0px 1px 3px 1px rgba(0, 0, 0, 0.15);\n",
              "      filter: drop-shadow(0px 1px 2px rgba(0, 0, 0, 0.3));\n",
              "      fill: #FFFFFF;\n",
              "    }\n",
              "  </style>\n",
              "\n",
              "      <script>\n",
              "        const buttonEl =\n",
              "          document.querySelector('#df-09c30ddd-bd83-415a-ba44-880f716f9187 button.colab-df-convert');\n",
              "        buttonEl.style.display =\n",
              "          google.colab.kernel.accessAllowed ? 'block' : 'none';\n",
              "\n",
              "        async function convertToInteractive(key) {\n",
              "          const element = document.querySelector('#df-09c30ddd-bd83-415a-ba44-880f716f9187');\n",
              "          const dataTable =\n",
              "            await google.colab.kernel.invokeFunction('convertToInteractive',\n",
              "                                                     [key], {});\n",
              "          if (!dataTable) return;\n",
              "\n",
              "          const docLinkHtml = 'Like what you see? Visit the ' +\n",
              "            '<a target=\"_blank\" href=https://colab.research.google.com/notebooks/data_table.ipynb>data table notebook</a>'\n",
              "            + ' to learn more about interactive tables.';\n",
              "          element.innerHTML = '';\n",
              "          dataTable['output_type'] = 'display_data';\n",
              "          await google.colab.output.renderOutput(dataTable, element);\n",
              "          const docLink = document.createElement('div');\n",
              "          docLink.innerHTML = docLinkHtml;\n",
              "          element.appendChild(docLink);\n",
              "        }\n",
              "      </script>\n",
              "    </div>\n",
              "  </div>\n",
              "  "
            ]
          },
          "metadata": {},
          "execution_count": 2
        }
      ]
    },
    {
      "cell_type": "code",
      "source": [
        "#Splitting the data into target (y) and features (X) to create train & test sets\n",
        "y = df.pop('Commercial Success')\n",
        "X = df\n",
        "X_train, X_test, y_train, y_test = train_test_split(X, y, test_size=0.30, stratify = y)"
      ],
      "metadata": {
        "id": "MC5KqhVl1WCR"
      },
      "execution_count": 3,
      "outputs": []
    },
    {
      "cell_type": "code",
      "source": [
        "#Creating a Pipeline to handle scaling or encoding the 2 types of features: numeric and binary/categorical\n",
        "numeric_features = ['Youtube Videos', 'Metacritic Score']\n",
        "binary_features = ['Independent Game']\n",
        "\n",
        "numeric_transformer = Pipeline(\n",
        "    steps=[(\"scaler\", PowerTransformer())]\n",
        ")\n",
        "\n",
        "binary_transformer = Pipeline(\n",
        "    steps=[(\"onehot\", OneHotEncoder(sparse=False, dtype='int', drop=\"if_binary\",handle_unknown=\"ignore\"))]\n",
        ")"
      ],
      "metadata": {
        "id": "4VuhPs502Hv2"
      },
      "execution_count": 4,
      "outputs": []
    },
    {
      "cell_type": "code",
      "source": [
        "#Fitting and Transforming All Columns that Need to be Adjusted\n",
        "col_transformer = ColumnTransformer(\n",
        "    transformers=[\n",
        "        (\"numeric\", numeric_transformer, numeric_features),\n",
        "        (\"binary\", binary_transformer, binary_features)\n",
        "    ],\n",
        "    remainder='passthrough'\n",
        ")\n",
        "\n",
        "col_transformer.fit(X_train)\n",
        "X_train = col_transformer.transform(X_train)\n",
        "X_test = col_transformer.transform(X_test)"
      ],
      "metadata": {
        "id": "9GADLk9v4JI2"
      },
      "execution_count": 5,
      "outputs": []
    },
    {
      "cell_type": "code",
      "source": [
        "#Applying KNN To Dataset and printing time taken for model to run\n",
        "classifier1 = KNeighborsClassifier(n_neighbors=5)\n",
        "\n",
        "start_traintime_knn = time.time()\n",
        "classifier1.fit(X_train, y_train)\n",
        "end_traintime_knn = (time.time() - start_traintime_knn) * 1000\n",
        "\n",
        "start_testtime_knn = time.time()\n",
        "y_pred = classifier1.predict(X_test)\n",
        "end_testtime_knn = (time.time() - start_testtime_knn) * 1000\n",
        "\n",
        "knn_accuracy = accuracy_score(y_test, y_pred)\n",
        "knn_f1 = f1_score(y_test,y_pred, average = 'weighted')\n",
        "\n",
        "print('KNN Train Time: %0.2f ms '%end_traintime_knn)\n",
        "print('KNN Test Time:%0.2f ms'%end_testtime_knn)"
      ],
      "metadata": {
        "id": "9xwRpO-I21XM",
        "colab": {
          "base_uri": "https://localhost:8080/"
        },
        "outputId": "c8dc5c1e-a9e2-4172-ab69-4849f1fc35cf"
      },
      "execution_count": 6,
      "outputs": [
        {
          "output_type": "stream",
          "name": "stdout",
          "text": [
            "KNN Train Time: 1.34 ms \n",
            "KNN Test Time:2.86 ms\n"
          ]
        }
      ]
    },
    {
      "cell_type": "code",
      "source": [
        "#Show KNN Confusion Matrix for results of predictions vs true values\n",
        "display = ConfusionMatrixDisplay.from_predictions(y_test, y_pred,labels=['High','Med','Low'],cmap = 'binary')\n",
        "display.ax_.set_title(\"K-Nearest Neighbors Confusion Matrix\")"
      ],
      "metadata": {
        "colab": {
          "base_uri": "https://localhost:8080/",
          "height": 313
        },
        "id": "OCtGLvMLEiUl",
        "outputId": "b64b5d39-973c-4e8c-eb99-32eefdd53cdd"
      },
      "execution_count": 7,
      "outputs": [
        {
          "output_type": "execute_result",
          "data": {
            "text/plain": [
              "Text(0.5, 1.0, 'K-Nearest Neighbors Confusion Matrix')"
            ]
          },
          "metadata": {},
          "execution_count": 7
        },
        {
          "output_type": "display_data",
          "data": {
            "text/plain": [
              "<Figure size 432x288 with 2 Axes>"
            ],
            "image/png": "[encoded data removed]"
          },
          "metadata": {
            "needs_background": "light"
          }
        }
      ]
    },
    {
      "cell_type": "code",
      "source": [
        "# KNN Report Scores on Accuracy \n",
        "print('KNN Classification Report')\n",
        "print(classification_report(y_test, y_pred, zero_division= 0))\n",
        "print('Accuracy score is {}'.format(accuracy_score(y_test, y_pred)))\n",
        "print('Weighted F1 score is {}'.format(f1_score(y_test,y_pred, average = 'weighted')))"
      ],
      "metadata": {
        "colab": {
          "base_uri": "https://localhost:8080/"
        },
        "id": "mW3jqkVSC8aN",
        "outputId": "76791b90-30a2-4129-f844-0cccfb0bd9c1"
      },
      "execution_count": 8,
      "outputs": [
        {
          "output_type": "stream",
          "name": "stdout",
          "text": [
            "KNN Classification Report\n",
            "              precision    recall  f1-score   support\n",
            "\n",
            "        High       0.68      0.94      0.79        18\n",
            "         Low       1.00      0.20      0.33         5\n",
            "         Med       0.75      0.43      0.55         7\n",
            "\n",
            "    accuracy                           0.70        30\n",
            "   macro avg       0.81      0.52      0.56        30\n",
            "weighted avg       0.75      0.70      0.66        30\n",
            "\n",
            "Accuracy score is 0.7\n",
            "Weighted F1 score is 0.6572468874794456\n"
          ]
        }
      ]
    },
    {
      "cell_type": "code",
      "source": [
        "#Now Running Random Forest and printing time taken for model to run\n",
        "classifier2 = RandomForestClassifier(n_estimators=5, random_state=0)\n",
        "\n",
        "start_traintime_rf = time.time()\n",
        "classifier2.fit(X_train, y_train)\n",
        "end_traintime_rf = (time.time() - start_traintime_rf) * 1000\n",
        "\n",
        "start_testtime_rf = time.time()\n",
        "y_pred = classifier2.predict(X_test)\n",
        "end_testtime_rf = (time.time() - start_testtime_rf) * 1000\n",
        "\n",
        "rf_accuracy = accuracy_score(y_test, y_pred)\n",
        "rf_f1 = f1_score(y_test,y_pred, average = 'weighted')\n",
        "\n",
        "print('Random Forest Train Time: %0.2f ms '%end_traintime_rf)\n",
        "print('Random Forest Test Time:%0.2f ms'%end_testtime_rf)"
      ],
      "metadata": {
        "id": "CYK0xHd0KX9W",
        "colab": {
          "base_uri": "https://localhost:8080/"
        },
        "outputId": "5db1e497-7858-4029-cd51-d0050a21a126"
      },
      "execution_count": 9,
      "outputs": [
        {
          "output_type": "stream",
          "name": "stdout",
          "text": [
            "Random Forest Train Time: 20.21 ms \n",
            "Random Forest Test Time:5.39 ms\n"
          ]
        }
      ]
    },
    {
      "cell_type": "code",
      "source": [
        "#Show RF Confusion Matrix for results of predictions vs true values\n",
        "display = ConfusionMatrixDisplay.from_predictions(y_test, y_pred, labels=['High','Med','Low'], cmap = 'binary')\n",
        "display.ax_.set_title(\"Random Forest Confusion Matrix\")"
      ],
      "metadata": {
        "colab": {
          "base_uri": "https://localhost:8080/",
          "height": 313
        },
        "id": "--RL0iKpaV3d",
        "outputId": "2cded309-ca52-4f8f-8da6-525cfc22427c"
      },
      "execution_count": 10,
      "outputs": [
        {
          "output_type": "execute_result",
          "data": {
            "text/plain": [
              "Text(0.5, 1.0, 'Random Forest Confusion Matrix')"
            ]
          },
          "metadata": {},
          "execution_count": 10
        },
        {
          "output_type": "display_data",
          "data": {
            "text/plain": [
              "<Figure size 432x288 with 2 Axes>"
            ],
            "image/png": "[encoded data removed]"
          },
          "metadata": {
            "needs_background": "light"
          }
        }
      ]
    },
    {
      "cell_type": "code",
      "source": [
        "print('RF Classification Report')\n",
        "print(classification_report(y_test, y_pred, zero_division= 0))\n",
        "print('Accuracy score is {}'.format(accuracy_score(y_test, y_pred)))\n",
        "print('Weighted F1 score is {}'.format(f1_score(y_test,y_pred, average = 'weighted')))"
      ],
      "metadata": {
        "colab": {
          "base_uri": "https://localhost:8080/"
        },
        "id": "VMihnYnjaPh4",
        "outputId": "c9d593db-b737-431b-f2f9-e2e7edde3b85"
      },
      "execution_count": 11,
      "outputs": [
        {
          "output_type": "stream",
          "name": "stdout",
          "text": [
            "RF Classification Report\n",
            "              precision    recall  f1-score   support\n",
            "\n",
            "        High       0.67      0.89      0.76        18\n",
            "         Low       0.50      0.40      0.44         5\n",
            "         Med       1.00      0.29      0.44         7\n",
            "\n",
            "    accuracy                           0.67        30\n",
            "   macro avg       0.72      0.52      0.55        30\n",
            "weighted avg       0.72      0.67      0.63        30\n",
            "\n",
            "Accuracy score is 0.6666666666666666\n",
            "Weighted F1 score is 0.6349206349206349\n"
          ]
        }
      ]
    },
    {
      "cell_type": "code",
      "source": [
        "#Now Running SVM and printing time taken for model to run\n",
        "classifier3 = SVC(kernel = 'linear')\n",
        "\n",
        "start_traintime_svc = time.time()\n",
        "classifier3.fit(X_train, y_train)\n",
        "end_traintime_svc = (time.time() - start_traintime_rf) * 1000\n",
        "\n",
        "start_testtime_svc = time.time()\n",
        "y_pred = classifier3.predict(X_test)\n",
        "end_testtime_svc = (time.time() - start_testtime_svc) * 1000\n",
        "\n",
        "svc_accuracy = accuracy_score(y_test, y_pred)\n",
        "svc_f1 = f1_score(y_test,y_pred, average = 'weighted')\n",
        "\n",
        "print('Support Vector Machine Train Time: %0.2f ms '%end_traintime_svc)\n",
        "print('Support Vector Machine Test Time:%0.2f ms'%end_testtime_svc)"
      ],
      "metadata": {
        "colab": {
          "base_uri": "https://localhost:8080/"
        },
        "id": "hEvIdYONRVJP",
        "outputId": "df0eaf6f-e633-499b-9442-637bee0b9bc0"
      },
      "execution_count": 12,
      "outputs": [
        {
          "output_type": "stream",
          "name": "stdout",
          "text": [
            "Support Vector Machine Train Time: 323.64 ms \n",
            "Support Vector Machine Test Time:0.57 ms\n"
          ]
        }
      ]
    },
    {
      "cell_type": "code",
      "source": [
        "#Show SVC Confusion Matrix for results of predictions vs true values\n",
        "display = ConfusionMatrixDisplay.from_predictions(y_test, y_pred, labels=['High','Med','Low'], cmap = 'binary')\n",
        "display.ax_.set_title(\"Support Vector Machine Confusion Matrix\")"
      ],
      "metadata": {
        "colab": {
          "base_uri": "https://localhost:8080/",
          "height": 313
        },
        "id": "WCvBp6S2RUs4",
        "outputId": "fb7a1523-d679-4eff-ccc4-55b0b640127a"
      },
      "execution_count": 13,
      "outputs": [
        {
          "output_type": "execute_result",
          "data": {
            "text/plain": [
              "Text(0.5, 1.0, 'Support Vector Machine Confusion Matrix')"
            ]
          },
          "metadata": {},
          "execution_count": 13
        },
        {
          "output_type": "display_data",
          "data": {
            "text/plain": [
              "<Figure size 432x288 with 2 Axes>"
            ],
            "image/png": "[encoded data removed]"
          },
          "metadata": {
            "needs_background": "light"
          }
        }
      ]
    },
    {
      "cell_type": "code",
      "source": [
        "print('Support Vector Machine Classification Report')\n",
        "print(classification_report(y_test, y_pred, zero_division= 0))\n",
        "print('Accuracy score is {}'.format(accuracy_score(y_test, y_pred)))\n",
        "print('Weighted F1 score is {}'.format(f1_score(y_test,y_pred, average = 'weighted')))"
      ],
      "metadata": {
        "colab": {
          "base_uri": "https://localhost:8080/"
        },
        "id": "0R9qAsMqVf6x",
        "outputId": "3aa30427-b7b5-49f9-cdc0-cb2a0fe4388a"
      },
      "execution_count": 14,
      "outputs": [
        {
          "output_type": "stream",
          "name": "stdout",
          "text": [
            "Support Vector Machine Classification Report\n",
            "              precision    recall  f1-score   support\n",
            "\n",
            "        High       0.60      1.00      0.75        18\n",
            "         Low       0.00      0.00      0.00         5\n",
            "         Med       0.00      0.00      0.00         7\n",
            "\n",
            "    accuracy                           0.60        30\n",
            "   macro avg       0.20      0.33      0.25        30\n",
            "weighted avg       0.36      0.60      0.45        30\n",
            "\n",
            "Accuracy score is 0.6\n",
            "Weighted F1 score is 0.44999999999999996\n"
          ]
        }
      ]
    },
    {
      "cell_type": "code",
      "source": [
        "#Now Running MLP (Artificial Neural Network) and printing time taken for model to run\n",
        "classifier4 = MLPClassifier(random_state=0)\n",
        "\n",
        "start_traintime_ann = time.time()\n",
        "classifier4.fit(X_train, y_train)\n",
        "end_traintime_ann = (time.time() - start_traintime_rf) * 1000\n",
        "\n",
        "start_testtime_ann = time.time()\n",
        "y_pred = classifier4.predict(X_test)\n",
        "end_testtime_ann = (time.time() - start_testtime_svc) * 1000\n",
        "\n",
        "ann_accuracy = accuracy_score(y_test, y_pred)\n",
        "ann_f1 = f1_score(y_test,y_pred, average = 'weighted')\n",
        "\n",
        "print('Artificial Neural Network Train Time: %0.2f ms '%end_traintime_ann)\n",
        "print('Artificial Neural Network Test Time:%0.2f ms'%end_testtime_ann)"
      ],
      "metadata": {
        "colab": {
          "base_uri": "https://localhost:8080/"
        },
        "id": "J7ieocKi7Un4",
        "outputId": "c808ff78-5af3-42d1-995b-796a690b40d7"
      },
      "execution_count": 15,
      "outputs": [
        {
          "output_type": "stream",
          "name": "stdout",
          "text": [
            "Artificial Neural Network Train Time: 861.23 ms \n",
            "Artificial Neural Network Test Time:538.03 ms\n"
          ]
        }
      ]
    },
    {
      "cell_type": "code",
      "source": [
        "#Show MLP (Artificial Neural Network) Confusion Matrix for results of predictions vs true values\n",
        "display = ConfusionMatrixDisplay.from_predictions(y_test, y_pred, labels=['High','Med','Low'], cmap = 'binary')\n",
        "display.ax_.set_title(\"Artificial Neural Network (MLP) Confusion Matrix\")"
      ],
      "metadata": {
        "colab": {
          "base_uri": "https://localhost:8080/",
          "height": 313
        },
        "id": "xhte_BXN7k4a",
        "outputId": "92da3874-d2db-4758-fc37-8ee057ebc8ca"
      },
      "execution_count": 16,
      "outputs": [
        {
          "output_type": "execute_result",
          "data": {
            "text/plain": [
              "Text(0.5, 1.0, 'Artificial Neural Network (MLP) Confusion Matrix')"
            ]
          },
          "metadata": {},
          "execution_count": 16
        },
        {
          "output_type": "display_data",
          "data": {
            "text/plain": [
              "<Figure size 432x288 with 2 Axes>"
            ],
            "image/png": "[encoded data removed]"
          },
          "metadata": {
            "needs_background": "light"
          }
        }
      ]
    },
    {
      "cell_type": "code",
      "source": [
        "print('Artificial Neural Network (MLP) Classification Report')\n",
        "print(classification_report(y_test, y_pred, zero_division= 0))\n",
        "print('Accuracy score is {}'.format(accuracy_score(y_test, y_pred)))\n",
        "print('Weighted F1 score is {}'.format(f1_score(y_test,y_pred, average = 'weighted')))"
      ],
      "metadata": {
        "colab": {
          "base_uri": "https://localhost:8080/"
        },
        "id": "5KVqxcXo7zuR",
        "outputId": "7b83e4c3-6ed8-4a93-df03-30f3908a714f"
      },
      "execution_count": 17,
      "outputs": [
        {
          "output_type": "stream",
          "name": "stdout",
          "text": [
            "Artificial Neural Network (MLP) Classification Report\n",
            "              precision    recall  f1-score   support\n",
            "\n",
            "        High       0.67      1.00      0.80        18\n",
            "         Low       0.00      0.00      0.00         5\n",
            "         Med       0.67      0.29      0.40         7\n",
            "\n",
            "    accuracy                           0.67        30\n",
            "   macro avg       0.44      0.43      0.40        30\n",
            "weighted avg       0.56      0.67      0.57        30\n",
            "\n",
            "Accuracy score is 0.6666666666666666\n",
            "Weighted F1 score is 0.5733333333333334\n"
          ]
        }
      ]
    },
    {
      "cell_type": "code",
      "source": [
        "#Chart Showing Performance Time Difference Between KNN,RF,SVM,and ANN\n",
        "\n",
        "labels = ['Training', 'Testing']\n",
        "knn_times = [end_traintime_knn,end_testtime_knn]\n",
        "rf_times = [end_traintime_rf,end_testtime_rf]\n",
        "svc_times = [end_traintime_svc,end_testtime_svc]\n",
        "ann_times = [end_traintime_ann,end_testtime_ann]\n",
        "\n",
        "ar = np.arange(len(labels))\n",
        "width = 0.2\n",
        "\n",
        "fig, ax = plt.subplots()\n",
        "rects1 = ax.bar(ar - (width * 2) + width/2, knn_times, width, label = 'KNN K = 5', color = 'darkgrey', edgecolor ='black', log = 'True')\n",
        "rects2 = ax.bar(ar - width/2, rf_times, width, label = 'RF trees = 5', color = 'lightgrey', edgecolor ='black')\n",
        "rects3 = ax.bar(ar + width/2, svc_times, width, label = 'SVM (SVC)', color = 'dimgrey', edgecolor ='black')\n",
        "rects4 = ax.bar(ar + (width * 2) - width/2, ann_times, width, label = 'ANN (MLP)', color = 'whitesmoke', edgecolor ='black')\n",
        "\n",
        "ax.set_ylabel('Time in log scale(milliseconds)')\n",
        "ax.set_title('Runtime by Classifier')\n",
        "ax.set_xticks(ar)\n",
        "ax.set_xticklabels(labels)\n",
        "ax.legend(loc='upper left', title='Classifier',fontsize = 'small')\n",
        "ax.bar_label(rects1, fmt='%.1f')\n",
        "ax.bar_label(rects2, fmt='%.1f')\n",
        "ax.bar_label(rects3, fmt='%.1f')\n",
        "ax.bar_label(rects4, fmt='%.1f')\n",
        "\n",
        "fig.tight_layout()\n",
        "\n",
        "plt.show()"
      ],
      "metadata": {
        "colab": {
          "base_uri": "https://localhost:8080/",
          "height": 297
        },
        "id": "GqtknCIjELeE",
        "outputId": "0f46c9a4-45c0-47d2-e887-165667408f8d"
      },
      "execution_count": 18,
      "outputs": [
        {
          "output_type": "display_data",
          "data": {
            "text/plain": [
              "<Figure size 432x288 with 1 Axes>"
            ],
            "image/png": "[encoded data removed]"
          },
          "metadata": {
            "needs_background": "light"
          }
        }
      ]
    },
    {
      "cell_type": "code",
      "source": [
        "#Chart Showing Prediction Performance Difference Between KNN,RF,SVM,and ANN\n",
        "\n",
        "labels = ['Accuracy', 'Weighted F1']\n",
        "knn_perf = [knn_accuracy,knn_f1]\n",
        "rf_perf = [rf_accuracy,rf_f1]\n",
        "svc_perf = [svc_accuracy,svc_f1]\n",
        "ann_perf = [ann_accuracy,ann_f1]\n",
        "\n",
        "ar = np.arange(len(labels))\n",
        "width = 0.2\n",
        "\n",
        "fig, ax = plt.subplots()\n",
        "rects1 = ax.bar(ar - (width * 2) + width/2, knn_perf, width, label = 'KNN K = 5', color = 'darkgrey', edgecolor ='black')\n",
        "rects2 = ax.bar(ar - width/2, rf_perf, width, label = 'RF trees = 5', color = 'lightgrey', edgecolor ='black')\n",
        "rects3 = ax.bar(ar + width/2, svc_perf, width, label = 'SVM (SVC)', color = 'dimgrey', edgecolor ='black')\n",
        "rects4 = ax.bar(ar + (width * 2) - width/2, ann_perf, width, label = 'ANN (MLP)', color = 'whitesmoke', edgecolor ='black')\n",
        "\n",
        "ax.set_title('Prediction Performance by Classifier')\n",
        "ax.set_xticks(ar)\n",
        "ax.set_yticks(np.arange(0, 1.1, 0.1))\n",
        "ax.set_ylabel('Score')\n",
        "ax.set_xticklabels(labels)\n",
        "ax.legend()\n",
        "ax.bar_label(rects1, fmt='%.2f')\n",
        "ax.bar_label(rects2, fmt='%.2f')\n",
        "ax.bar_label(rects3, fmt='%.2f')\n",
        "ax.bar_label(rects4, fmt='%.2f')\n",
        "\n",
        "fig.tight_layout()\n",
        "\n",
        "plt.show()"
      ],
      "metadata": {
        "colab": {
          "base_uri": "https://localhost:8080/",
          "height": 297
        },
        "id": "XBVWFJtPOckD",
        "outputId": "b8c77f7a-a101-4f66-dd80-178108a6689b"
      },
      "execution_count": 19,
      "outputs": [
        {
          "output_type": "display_data",
          "data": {
            "text/plain": [
              "<Figure size 432x288 with 1 Axes>"
            ],
            "image/png": "[encoded data removed]"
          },
          "metadata": {
            "needs_background": "light"
          }
        }
      ]
    },
    {
      "cell_type": "code",
      "source": [
        "#All Model Accuracies\n",
        "print('K-Nearest Neighbors Accuracy: %0.2f'%knn_accuracy)\n",
        "print('Random Forest Accuracy: %0.2f'%rf_accuracy)\n",
        "print('Support Vector Machine Accuracy: %0.2f'%svc_accuracy)\n",
        "print('Artificial Neural Network Accuracy: %0.2f'%ann_accuracy)"
      ],
      "metadata": {
        "colab": {
          "base_uri": "https://localhost:8080/"
        },
        "id": "AzC0Uk8zlhXt",
        "outputId": "aee0dd4c-dc6e-460e-df36-657253fb6609"
      },
      "execution_count": 20,
      "outputs": [
        {
          "output_type": "stream",
          "name": "stdout",
          "text": [
            "K-Nearest Neighbors Accuracy: 0.70\n",
            "Random Forest Accuracy: 0.67\n",
            "Support Vector Machine Accuracy: 0.60\n",
            "Artificial Neural Network Accuracy: 0.67\n"
          ]
        }
      ]
    }
  ]
}